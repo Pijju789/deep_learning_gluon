{
 "cells": [
  {
   "cell_type": "code",
   "execution_count": 1,
   "metadata": {},
   "outputs": [
    {
     "name": "stdout",
     "output_type": "stream",
     "text": [
      "accuracy: 0.280000\n"
     ]
    }
   ],
   "source": [
    "import numpy as np\n",
    "import pickle as p\n",
    "data_route = '/home/sinyer/python/data'\n",
    "\n",
    "\n",
    "def load_cifar(route = data_route+'/cifar-10-batches-py', train_num = 2000, test_num = 100):\n",
    "    def load_batch(filename):\n",
    "        with open(filename, 'rb')as f:\n",
    "            data_dict = p.load(f, encoding='latin1')\n",
    "            X = data_dict['data']\n",
    "            Y = data_dict['labels']\n",
    "            X = X.reshape(10000, 3, 32,32).astype(\"float\")\n",
    "            Y = np.array(Y)\n",
    "            return X, Y\n",
    "    def load_labels(filename):\n",
    "        with open(filename, 'rb') as f:\n",
    "            label_names = p.load(f, encoding='latin1')\n",
    "            names = label_names['label_names']\n",
    "            return names\n",
    "    label_names = load_labels(route + \"/batches.meta\")\n",
    "    x1, y1 = load_batch(route + \"/data_batch_1\")\n",
    "    x2, y2 = load_batch(route + \"/data_batch_2\")\n",
    "    x3, y3 = load_batch(route + \"/data_batch_3\")\n",
    "    x4, y4 = load_batch(route + \"/data_batch_4\")\n",
    "    x5, y5 = load_batch(route + \"/data_batch_5\")\n",
    "    test_pic, test_label = load_batch(route + \"/test_batch\")\n",
    "    train_pic = np.concatenate((x1, x2, x3, x4, x5))\n",
    "    train_label = np.concatenate((y1, y2, y3, y4, y5))\n",
    "    train_pic = train_pic[:train_num].astype('float32')/255\n",
    "    train_label = train_label[:train_num].astype('float32')\n",
    "    test_pic = test_pic[:test_num].astype('float32')/255\n",
    "    test_label = test_label[:test_num].astype('float32')\n",
    "    return train_pic, train_label, test_pic, test_label\n",
    "\n",
    "train_data, train_label, test_data, test_label = load_cifar()\n",
    "\n",
    "\n",
    "def change(train_data, test_data, i):\n",
    "    a = []\n",
    "    x = np.abs(train_data - test_data[i, :])\n",
    "    for j in range(len(x)):\n",
    "        a.append(np.sum(x[j]))\n",
    "    return a\n",
    "\n",
    "class NearestNeighbor(object):\n",
    "    def __init__(self):\n",
    "        pass\n",
    "    def train(self, train_data, train_label):\n",
    "        self.train_data = train_data\n",
    "        self.train_label = train_label\n",
    "    def predict(self, test_data):\n",
    "        test_num = test_data.shape[0]\n",
    "        pred_label = np.zeros(test_num, dtype=self.train_label.dtype)\n",
    "        for i in range(test_num):        \n",
    "            loss = change(train_data, test_data, i)\n",
    "            index = np.argmin(loss)\n",
    "            pred_label[i] = self.train_label[index] \n",
    "        return pred_label\n",
    "    \n",
    "    \n",
    "nn = NearestNeighbor()  \n",
    "nn.train(train_data, train_label)  \n",
    "test_predict = nn.predict(test_data)  \n",
    "\n",
    "print('accuracy: %f' % (np.mean(test_predict == test_label)))"
   ]
  },
  {
   "cell_type": "code",
   "execution_count": null,
   "metadata": {
    "collapsed": true
   },
   "outputs": [],
   "source": []
  }
 ],
 "metadata": {
  "kernelspec": {
   "display_name": "Python 3",
   "language": "python",
   "name": "python3"
  },
  "language_info": {
   "codemirror_mode": {
    "name": "ipython",
    "version": 3
   },
   "file_extension": ".py",
   "mimetype": "text/x-python",
   "name": "python",
   "nbconvert_exporter": "python",
   "pygments_lexer": "ipython3",
   "version": "3.6.3"
  }
 },
 "nbformat": 4,
 "nbformat_minor": 2
}

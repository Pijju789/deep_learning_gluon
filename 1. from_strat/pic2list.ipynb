{
 "cells": [
  {
   "cell_type": "code",
   "execution_count": null,
   "metadata": {
    "collapsed": true
   },
   "outputs": [],
   "source": [
    "from PIL import Image as image\n",
    "import numpy as np\n",
    "\n",
    "img  = '/Users/Sinyer/Desktop/t.jpg'\n",
    "scale = 100\n",
    "def piclist(img, scale):\n",
    "    text = np.array(image.open(img))\n",
    "\n",
    "    a = text.tolist()\n",
    "    if len(a)/scale < 1:\n",
    "        print(\"picture is smaller than scale!\")\n",
    "        return(0)\n",
    "    else:\n",
    "        std = int(len(a)/scale)\n",
    "        i = 0\n",
    "        b = []\n",
    "        while i < len(a):\n",
    "            c = []\n",
    "            j = 0\n",
    "            while j < len(a[0]):\n",
    "                c.append(a[i][j])\n",
    "                j = j + std\n",
    "            b.append(c)\n",
    "            i = i + std\n",
    "        i = 0\n",
    "        j = 0\n",
    "        im = image.new(\"RGB\",(len(b[0]), len(b)))\n",
    "        for i in range(len(b)):\n",
    "            for j in range(len(b[0])):\n",
    "                im.putpixel((j, i), (b[i][j][0], b[i][j][1], b[i][j][2]))\n",
    "        im.show()\n",
    "        return b\n",
    "b = piclist(img, scale)"
   ]
  },
  {
   "cell_type": "code",
   "execution_count": null,
   "metadata": {
    "collapsed": true
   },
   "outputs": [],
   "source": []
  }
 ],
 "metadata": {
  "kernelspec": {
   "display_name": "Python 3",
   "language": "python",
   "name": "python3"
  },
  "language_info": {
   "codemirror_mode": {
    "name": "ipython",
    "version": 3
   },
   "file_extension": ".py",
   "mimetype": "text/x-python",
   "name": "python",
   "nbconvert_exporter": "python",
   "pygments_lexer": "ipython3",
   "version": "3.6.2"
  }
 },
 "nbformat": 4,
 "nbformat_minor": 2
}

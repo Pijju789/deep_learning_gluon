{
 "cells": [
  {
   "cell_type": "code",
   "execution_count": null,
   "metadata": {},
   "outputs": [],
   "source": [
    "import os\n",
    "import tarfile\n",
    "from mxnet import gluon, image"
   ]
  },
  {
   "cell_type": "code",
   "execution_count": null,
   "metadata": {},
   "outputs": [],
   "source": [
    "data_root = '../data'\n",
    "voc_root = data_root + '/VOCdevkit/VOC2012'\n",
    "url = ('http://host.robots.ox.ac.uk/pascal/VOC/voc2012/VOCtrainval_11-May-2012.tar')\n",
    "sha1 = '4e443f8a2eca6b1dac8a6c57641b67dd40621a49'\n",
    "\n",
    "fname = gluon.utils.download(url, data_root, sha1_hash=sha1)\n",
    "\n",
    "if not os.path.isfile(voc_root+'/ImageSets/Segmentation/train.txt'):\n",
    "    with tarfile.open(fname, 'r') as f:\n",
    "        f.extractall(data_root)"
   ]
  },
  {
   "cell_type": "code",
   "execution_count": null,
   "metadata": {},
   "outputs": [],
   "source": [
    "def read_images(root=voc_root, train=True):\n",
    "    txt_fname = root + '/ImageSets/Segmentation/' + (\n",
    "        'train.txt' if train else 'val.txt')\n",
    "    with open(txt_fname, 'r') as f:\n",
    "        images = f.read().split()\n",
    "    n = len(images)\n",
    "    data, label = [None] * n, [None] * n\n",
    "    for i, fname in enumerate(images):\n",
    "        data[i] = image.imread('%s/JPEGImages/%s.jpg' % (\n",
    "            root, fname))\n",
    "        label[i] = image.imread('%s/SegmentationClass/%s.png' % (\n",
    "            root, fname))\n",
    "    return data, label"
   ]
  }
 ],
 "metadata": {
  "kernelspec": {
   "display_name": "Python 3",
   "language": "python",
   "name": "python3"
  },
  "language_info": {
   "codemirror_mode": {
    "name": "ipython",
    "version": 3
   },
   "file_extension": ".py",
   "mimetype": "text/x-python",
   "name": "python",
   "nbconvert_exporter": "python",
   "pygments_lexer": "ipython3",
   "version": "3.6.4"
  }
 },
 "nbformat": 4,
 "nbformat_minor": 2
}

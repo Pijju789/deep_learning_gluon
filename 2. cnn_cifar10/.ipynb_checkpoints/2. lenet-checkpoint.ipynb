{
 "cells": [
  {
   "cell_type": "code",
   "execution_count": 1,
   "metadata": {
    "collapsed": true
   },
   "outputs": [],
   "source": [
    "import mxnet as mx\n",
    "from mxnet import gluon, nd, autograd\n",
    "from mxnet.gluon import nn\n",
    "import numpy as np\n",
    "import pickle as p\n",
    "import matplotlib.pyplot as plt\n",
    "from time import time\n",
    "%matplotlib inline\n",
    "ctx = mx.gpu()\n",
    "data_route = '/home/sinyer/python/data'"
   ]
  },
  {
   "cell_type": "code",
   "execution_count": 2,
   "metadata": {
    "collapsed": true
   },
   "outputs": [],
   "source": [
    "def load_cifar(route = data_route+'/cifar-10-batches-py', train_num = 50000, test_num = 10000):\n",
    "    def load_batch(filename):\n",
    "        with open(filename, 'rb')as f:\n",
    "            data_dict = p.load(f, encoding='latin1')\n",
    "            X = data_dict['data']\n",
    "            Y = data_dict['labels']\n",
    "            X = X.reshape(10000, 3, 32,32).astype(\"float\")\n",
    "            Y = np.array(Y)\n",
    "            return X, Y\n",
    "    def load_labels(filename):\n",
    "        with open(filename, 'rb') as f:\n",
    "            label_names = p.load(f, encoding='latin1')\n",
    "            names = label_names['label_names']\n",
    "            return names\n",
    "    label_names = load_labels(route + \"/batches.meta\")\n",
    "    x1, y1 = load_batch(route + \"/data_batch_1\")\n",
    "    x2, y2 = load_batch(route + \"/data_batch_2\")\n",
    "    x3, y3 = load_batch(route + \"/data_batch_3\")\n",
    "    x4, y4 = load_batch(route + \"/data_batch_4\")\n",
    "    x5, y5 = load_batch(route + \"/data_batch_5\")\n",
    "    test_pic, test_label = load_batch(route + \"/test_batch\")[:test_num]\n",
    "    train_pic = np.concatenate((x1, x2, x3, x4, x5))[:train_num]\n",
    "    train_label = np.concatenate((y1, y2, y3, y4, y5))[:train_num]\n",
    "    return train_pic, train_label, test_pic, test_label\n",
    "\n",
    "def accuracy(output, label):\n",
    "    return nd.mean(output.argmax(axis=1)==label).asscalar()\n",
    "\n",
    "def evaluate_accuracy(data_iterator, net, ctx):\n",
    "    acc = 0.\n",
    "    for data, label in data_iterator:\n",
    "        data = data.as_in_context(ctx)\n",
    "        label = label.as_in_context(ctx)\n",
    "        output = net(data)\n",
    "        acc += accuracy(output, label)\n",
    "    return acc / len(data_iterator)"
   ]
  },
  {
   "cell_type": "code",
   "execution_count": 3,
   "metadata": {
    "collapsed": true
   },
   "outputs": [],
   "source": [
    "train_pic, train_label, test_pic, test_label = load_cifar()\n",
    "\n",
    "batch_size = 128\n",
    "train_data = gluon.data.DataLoader(gluon.data.ArrayDataset(\n",
    "    train_pic.astype('float32')/255, train_label.astype('float32')), batch_size, shuffle=True)\n",
    "test_data = gluon.data.DataLoader(gluon.data.ArrayDataset(\n",
    "    test_pic.astype('float32')/255, test_label.astype('float32')), batch_size, shuffle=False)"
   ]
  },
  {
   "cell_type": "code",
   "execution_count": 4,
   "metadata": {
    "collapsed": true
   },
   "outputs": [],
   "source": [
    "net = gluon.nn.Sequential()\n",
    "with net.name_scope():\n",
    "    net.add(\n",
    "        nn.Conv2D(channels=20, kernel_size=5, activation='relu'),\n",
    "        nn.MaxPool2D(pool_size=2, strides=2),\n",
    "        nn.Conv2D(channels=50, kernel_size=3, activation='relu'),\n",
    "        nn.MaxPool2D(pool_size=2, strides=2),\n",
    "        nn.Flatten(),\n",
    "        nn.Dense(128, activation=\"relu\"),\n",
    "        nn.Dense(10)\n",
    "    )\n",
    "net.initialize(ctx=ctx)\n",
    "loss = gluon.loss.SoftmaxCrossEntropyLoss()\n",
    "trainer = gluon.Trainer(net.collect_params(), 'sgd', {'learning_rate': 0.02, 'momentum': 0.9, 'wd': 5e-4})"
   ]
  },
  {
   "cell_type": "code",
   "execution_count": 5,
   "metadata": {},
   "outputs": [
    {
     "name": "stdout",
     "output_type": "stream",
     "text": [
      "E 0; L 1.859813; Tr_acc 0.319329; Te_acc 0.421282; T 7.386356\n",
      "E 10; L 0.583703; Tr_acc 0.793370; Te_acc 0.677611; T 1.923262\n",
      "E 20; L 0.210251; Tr_acc 0.927018; Te_acc 0.668612; T 2.238257\n",
      "E 30; L 0.115358; Tr_acc 0.961737; Te_acc 0.665348; T 1.866508\n",
      "E 40; L 0.036450; Tr_acc 0.992495; Te_acc 0.686214; T 1.855559\n",
      "E 50; L 0.008149; Tr_acc 1.000000; Te_acc 0.696796; T 1.860547\n",
      "E 60; L 0.009670; Tr_acc 1.000000; Te_acc 0.694422; T 1.867643\n",
      "E 70; L 0.010042; Tr_acc 1.000000; Te_acc 0.694027; T 1.868096\n",
      "Tr_acc 1.000000; Te_acc 0.694521\n"
     ]
    },
    {
     "data": {
      "image/png": "[encoded data removed]",
      "text/plain": [
       "<matplotlib.figure.Figure at 0x7f7280d8d048>"
      ]
     },
     "metadata": {},
     "output_type": "display_data"
    }
   ],
   "source": [
    "epochs = 80\n",
    "\n",
    "a = []\n",
    "b = []\n",
    "for epoch in range(epochs):\n",
    "    if epoch == 40:\n",
    "        trainer.set_learning_rate(0.005)\n",
    "    if epoch == 60:\n",
    "        trainer.set_learning_rate(0.001)        \n",
    "    train_loss = 0.\n",
    "    train_acc = 0.\n",
    "    batch = 0\n",
    "    start = time()\n",
    "    for data, label in train_data:\n",
    "        data = data.as_in_context(ctx)\n",
    "        label = label.as_in_context(ctx)\n",
    "        with autograd.record():\n",
    "            output = net(data)\n",
    "            l = loss(output, label)\n",
    "        l.backward()\n",
    "        trainer.step(data.shape[0])\n",
    "        train_loss += nd.mean(l).asscalar()\n",
    "        train_acc += accuracy(output, label)\n",
    "        batch += 1\n",
    "    a.append(train_acc/batch)\n",
    "    test_acc = evaluate_accuracy(test_data, net, ctx)\n",
    "    b.append(test_acc)\n",
    "    if epoch%10 == 0:\n",
    "        print(\"E %d; L %f; Tr_acc %f; Te_acc %f; T %f\" % (epoch, train_loss / batch, train_acc / batch, test_acc, time() - start))\n",
    "print(\"Tr_acc %f; Te_acc %f\" % (train_acc / batch, test_acc))\n",
    "plt.plot(np.arange(epochs), a, np.arange(epochs), b)\n",
    "plt.ylim(0,1)\n",
    "plt.show()"
   ]
  },
  {
   "cell_type": "code",
   "execution_count": null,
   "metadata": {
    "collapsed": true
   },
   "outputs": [],
   "source": []
  }
 ],
 "metadata": {
  "kernelspec": {
   "display_name": "Python 3",
   "language": "python",
   "name": "python3"
  },
  "language_info": {
   "codemirror_mode": {
    "name": "ipython",
    "version": 3
   },
   "file_extension": ".py",
   "mimetype": "text/x-python",
   "name": "python",
   "nbconvert_exporter": "python",
   "pygments_lexer": "ipython3",
   "version": "3.6.3"
  }
 },
 "nbformat": 4,
 "nbformat_minor": 2
}

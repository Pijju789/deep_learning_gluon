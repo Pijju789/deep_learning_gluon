{
 "cells": [
  {
   "cell_type": "code",
   "execution_count": null,
   "metadata": {},
   "outputs": [],
   "source": [
    "import mxnet as mx\n",
    "from mxnet import init, gluon, test_utils, autograd, nd\n",
    "from mxnet.gluon import nn, utils\n",
    "import numpy as np\n",
    "import gzip, struct\n",
    "from matplotlib import pyplot as plt\n",
    "from time import time\n",
    "%matplotlib inline\n",
    "ctx = mx.gpu()\n",
    "data_dir = '/home/sinyer/python/data/mnist'"
   ]
  },
  {
   "cell_type": "code",
   "execution_count": null,
   "metadata": {},
   "outputs": [],
   "source": [
    "def load_mnist():\n",
    "    def read_data(label_dir, image_dir):\n",
    "        with gzip.open(label_dir) as flbl:\n",
    "            struct.unpack(\">II\", flbl.read(8))\n",
    "            label = np.fromstring(flbl.read(), dtype=np.int8)\n",
    "        with gzip.open(image_dir, 'rb') as fimg:\n",
    "            _, _, rows, cols = struct.unpack(\">IIII\", fimg.read(16))\n",
    "            image = np.fromstring(fimg.read(), dtype=np.uint8).reshape(len(label), rows, cols)\n",
    "            image = image.reshape(image.shape[0], 1, 28, 28).astype(np.float32)/255\n",
    "        return label, image\n",
    "    train_label, train_img = read_data(\n",
    "        data_dir+'/train-labels-idx1-ubyte.gz', data_dir+'/train-images-idx3-ubyte.gz')\n",
    "    test_label, test_img = read_data(\n",
    "        data_dir+'/t10k-labels-idx1-ubyte.gz', data_dir+'/t10k-images-idx3-ubyte.gz')\n",
    "    return train_img, train_label, test_img, test_label\n",
    "\n",
    "def visualize(img_arr):\n",
    "    plt.imshow((img_arr.asnumpy().reshape(28,28)*255).astype(np.uint8), cmap='gray')\n",
    "    plt.axis('off')"
   ]
  },
  {
   "cell_type": "code",
   "execution_count": null,
   "metadata": {},
   "outputs": [],
   "source": [
    "train_img, train_label, test_img, test_label = load_mnist()\n",
    "train_label = nd.one_hot(nd.array(train_label), 10).astype(np.float32)\n",
    "\n",
    "batch_size = 64\n",
    "train_iter = mx.io.NDArrayIter(data=train_img, label=train_label, batch_size=batch_size)\n",
    "real_label = nd.ones((batch_size,), ctx=ctx)\n",
    "fake_label = nd.zeros((batch_size,),ctx=ctx)"
   ]
  },
  {
   "cell_type": "code",
   "execution_count": null,
   "metadata": {},
   "outputs": [],
   "source": [
    "netG = nn.HybridSequential()\n",
    "with netG.name_scope():\n",
    "    netG.add(nn.Dense(units=128, activation='relu', weight_initializer=init.Xavier()))\n",
    "    netG.add(nn.Dense(units=784, activation='sigmoid', weight_initializer=init.Xavier()))\n",
    "\n",
    "netD = nn.HybridSequential()\n",
    "with netD.name_scope():\n",
    "    netD.add(nn.Dense(units=128, activation='relu', weight_initializer=init.Xavier()))\n",
    "    netD.add(nn.Dense(units=1, weight_initializer=init.Xavier()))"
   ]
  },
  {
   "cell_type": "code",
   "execution_count": null,
   "metadata": {},
   "outputs": [],
   "source": [
    "netG.initialize(ctx=ctx)\n",
    "netD.initialize(ctx=ctx)\n",
    "\n",
    "loss = gluon.loss.SigmoidBinaryCrossEntropyLoss()\n",
    "trainerG = gluon.Trainer(netG.collect_params(), 'adam', {'learning_rate': 0.001})\n",
    "trainerD = gluon.Trainer(netD.collect_params(), 'adam', {'learning_rate': 0.001})"
   ]
  },
  {
   "cell_type": "code",
   "execution_count": null,
   "metadata": {},
   "outputs": [],
   "source": [
    "epochs = 100\n",
    "\n",
    "for epoch in range(epochs):\n",
    "    start = time()\n",
    "    train_iter.reset()\n",
    "    for batch in train_iter:\n",
    "        data = batch.data[0].as_in_context(ctx)\n",
    "        label = batch.label[0].as_in_context(ctx)\n",
    "        latent_z = mx.nd.random_normal(0, 1, shape=(batch_size, 100), ctx=ctx)\n",
    "        D_input = nd.concat(data.reshape((data.shape[0], -1)), label)\n",
    "        G_input = nd.concat(latent_z, label)   \n",
    "        with autograd.record():\n",
    "            output = netD(D_input)\n",
    "            errD_real = loss(output, real_label)\n",
    "            fake = netG(G_input)\n",
    "            D_fake_input = nd.concat(fake.reshape((fake.shape[0], -1)), label)\n",
    "            output = netD(D_fake_input.detach())\n",
    "            errD_fake = loss(output, fake_label)\n",
    "            errD = errD_real + errD_fake\n",
    "            errD.backward()\n",
    "        trainerD.step(data[0].shape[0])\n",
    "        with autograd.record():\n",
    "            fake = netG(G_input)\n",
    "            D_fake_input = nd.concat(fake.reshape((fake.shape[0], -1)), label)\n",
    "            output = netD(D_fake_input)\n",
    "            errG = loss(output, real_label)\n",
    "            errG.backward()\n",
    "        trainerG.step(data[0].shape[0])\n",
    "\n",
    "    if epoch%10 == 0:\n",
    "        print('%d, dloss %.4f, gloss %.4f, T %.4f' %(\n",
    "            epoch, nd.mean(errD).asscalar(), nd.mean(errG).asscalar(), time()-start))"
   ]
  },
  {
   "cell_type": "code",
   "execution_count": null,
   "metadata": {},
   "outputs": [],
   "source": [
    "num_image = 4\n",
    "for digit in range(4):\n",
    "    for i in range(num_image):\n",
    "        latent_z = mx.nd.random_normal(0, 1, shape=(1, 100), ctx=ctx)\n",
    "        label = nd.one_hot(nd.array([[digit]]), 10).as_in_context(ctx)\n",
    "        img = netG(nd.concat(latent_z, label.reshape((1, 10))))\n",
    "        plt.subplot(4, 4, digit * 4 + i + 1)\n",
    "        visualize(img[0])\n",
    "plt.show()"
   ]
  },
  {
   "cell_type": "code",
   "execution_count": null,
   "metadata": {},
   "outputs": [],
   "source": []
  }
 ],
 "metadata": {
  "kernelspec": {
   "display_name": "Python 3",
   "language": "python",
   "name": "python3"
  },
  "language_info": {
   "codemirror_mode": {
    "name": "ipython",
    "version": 3
   },
   "file_extension": ".py",
   "mimetype": "text/x-python",
   "name": "python",
   "nbconvert_exporter": "python",
   "pygments_lexer": "ipython3",
   "version": "3.6.4"
  }
 },
 "nbformat": 4,
 "nbformat_minor": 2
}
